{
  "nbformat": 4,
  "nbformat_minor": 0,
  "metadata": {
    "colab": {
      "name": "Assignment2.ipynb",
      "provenance": [],
      "authorship_tag": "ABX9TyOKW2kx8icvKWHidNBkN1du",
      "include_colab_link": true
    },
    "kernelspec": {
      "name": "python3",
      "display_name": "Python 3"
    },
    "language_info": {
      "name": "python"
    }
  },
  "cells": [
    {
      "cell_type": "markdown",
      "metadata": {
        "id": "view-in-github",
        "colab_type": "text"
      },
      "source": [
        "<a href=\"https://colab.research.google.com/github/degraft256/Jul22-Vac-Python/blob/main/Assignment2.ipynb\" target=\"_parent\"><img src=\"https://colab.research.google.com/assets/colab-badge.svg\" alt=\"Open In Colab\"/></a>"
      ]
    },
    {
      "cell_type": "code",
      "execution_count": 1,
      "metadata": {
        "colab": {
          "base_uri": "https://localhost:8080/"
        },
        "id": "MFqbJZ7EGR5U",
        "outputId": "6fb21f7b-e252-41d9-9fe1-35ea53b95a49"
      },
      "outputs": [
        {
          "output_type": "execute_result",
          "data": {
            "text/plain": [
              "True"
            ]
          },
          "metadata": {},
          "execution_count": 1
        }
      ],
      "source": [
        "True"
      ]
    },
    {
      "cell_type": "code",
      "source": [
        "False"
      ],
      "metadata": {
        "colab": {
          "base_uri": "https://localhost:8080/"
        },
        "id": "x1HTXRQDH4Wy",
        "outputId": "3d2fa3ca-418c-46bf-804d-70017eb2d5a0"
      },
      "execution_count": 2,
      "outputs": [
        {
          "output_type": "execute_result",
          "data": {
            "text/plain": [
              "False"
            ]
          },
          "metadata": {},
          "execution_count": 2
        }
      ]
    },
    {
      "cell_type": "code",
      "source": [
        "number_of_dogs= 23\n",
        "number_of_cats= 24\n",
        "print(number_of_dogs==number_of_cats)"
      ],
      "metadata": {
        "colab": {
          "base_uri": "https://localhost:8080/"
        },
        "id": "lvtUxZbrIKzd",
        "outputId": "7b8b8816-8231-474c-87ea-c389cb9313d1"
      },
      "execution_count": 5,
      "outputs": [
        {
          "output_type": "stream",
          "name": "stdout",
          "text": [
            "False\n"
          ]
        }
      ]
    },
    {
      "cell_type": "code",
      "source": [
        "number_of_cows=35\n",
        "number_of_wocs=35\n",
        "print(number_of_cows==number_of_wocs)"
      ],
      "metadata": {
        "colab": {
          "base_uri": "https://localhost:8080/"
        },
        "id": "ob9zkzOkIyEN",
        "outputId": "424dad42-408a-4eea-ba87-2770b9eef6ff"
      },
      "execution_count": 6,
      "outputs": [
        {
          "output_type": "stream",
          "name": "stdout",
          "text": [
            "True\n"
          ]
        }
      ]
    },
    {
      "cell_type": "code",
      "source": [
        "number_of_pens = 20\n",
        "number_of_bicycles=30\n",
        "print((number_of_pens < number_of_bicycles))"
      ],
      "metadata": {
        "colab": {
          "base_uri": "https://localhost:8080/"
        },
        "id": "l7ePM1CnQvKn",
        "outputId": "4fb2a54a-208f-4dcd-8b4d-64b4515570a5"
      },
      "execution_count": 7,
      "outputs": [
        {
          "output_type": "stream",
          "name": "stdout",
          "text": [
            "True\n"
          ]
        }
      ]
    },
    {
      "cell_type": "code",
      "source": [
        "number_of_pens = 20\n",
        "number_of_bicycles=30\n",
        "print((number_of_pens < number_of_bicycles))\n",
        "print(number_of_pens == number_of_bicycles)"
      ],
      "metadata": {
        "colab": {
          "base_uri": "https://localhost:8080/"
        },
        "id": "69i4SwI4Rbyq",
        "outputId": "0743cdd8-000b-4051-c7df-a43425712064"
      },
      "execution_count": 8,
      "outputs": [
        {
          "output_type": "stream",
          "name": "stdout",
          "text": [
            "True\n",
            "False\n"
          ]
        }
      ]
    },
    {
      "cell_type": "code",
      "source": [
        "my_list=[1,2,3]\n",
        "print(my_list)"
      ],
      "metadata": {
        "colab": {
          "base_uri": "https://localhost:8080/"
        },
        "id": "ssqnnRqER94h",
        "outputId": "bdb43999-593d-433a-e9c4-a8a74499987c"
      },
      "execution_count": 9,
      "outputs": [
        {
          "output_type": "stream",
          "name": "stdout",
          "text": [
            "[1, 2, 3]\n"
          ]
        }
      ]
    },
    {
      "cell_type": "code",
      "source": [
        "type(my_list)"
      ],
      "metadata": {
        "colab": {
          "base_uri": "https://localhost:8080/"
        },
        "id": "soXHvcVLSRcH",
        "outputId": "cacfb9d6-f16e-406d-996b-1eb8ee315fd5"
      },
      "execution_count": 10,
      "outputs": [
        {
          "output_type": "execute_result",
          "data": {
            "text/plain": [
              "list"
            ]
          },
          "metadata": {},
          "execution_count": 10
        }
      ]
    },
    {
      "cell_type": "code",
      "source": [
        "my_list=[2,'NAME',5]\n",
        "print(my_list)"
      ],
      "metadata": {
        "colab": {
          "base_uri": "https://localhost:8080/"
        },
        "id": "qKumwPtaSWgp",
        "outputId": "561142f5-06de-4faa-9a81-80f5c6fef759"
      },
      "execution_count": 11,
      "outputs": [
        {
          "output_type": "stream",
          "name": "stdout",
          "text": [
            "[2, 'NAME', 5]\n"
          ]
        }
      ]
    },
    {
      "cell_type": "code",
      "source": [
        "my_list=[\"NUMS\", [2,5,6]]\n",
        "print(my_list)"
      ],
      "metadata": {
        "colab": {
          "base_uri": "https://localhost:8080/"
        },
        "id": "uNbNT9SbSwnY",
        "outputId": "57632596-0541-4d83-8396-fb4d44d16c42"
      },
      "execution_count": 12,
      "outputs": [
        {
          "output_type": "stream",
          "name": "stdout",
          "text": [
            "['NUMS', [2, 5, 6]]\n"
          ]
        }
      ]
    },
    {
      "cell_type": "code",
      "source": [
        "my_list=[2, 'Nums', 5]\n",
        "print (my_list[1])"
      ],
      "metadata": {
        "colab": {
          "base_uri": "https://localhost:8080/"
        },
        "id": "pM6R5XmoTDx8",
        "outputId": "a1859398-f083-421f-851e-33a2941bd147"
      },
      "execution_count": 14,
      "outputs": [
        {
          "output_type": "stream",
          "name": "stdout",
          "text": [
            "Nums\n"
          ]
        }
      ]
    },
    {
      "cell_type": "code",
      "source": [
        "my_list = ['NAME', [3.7,8], ['AGE',5,6]]\n",
        "print(my_list[2][0])"
      ],
      "metadata": {
        "colab": {
          "base_uri": "https://localhost:8080/"
        },
        "id": "JUbiMvEyTmXW",
        "outputId": "9fa952da-c685-4b84-bdfb-6ae8ee960688"
      },
      "execution_count": 16,
      "outputs": [
        {
          "output_type": "stream",
          "name": "stdout",
          "text": [
            "AGE\n"
          ]
        }
      ]
    },
    {
      "cell_type": "code",
      "source": [
        "my_list=[2,3,4, 'Name','Age','sex',15]\n",
        "print(my_list[3:6])"
      ],
      "metadata": {
        "colab": {
          "base_uri": "https://localhost:8080/"
        },
        "id": "HRkpyeRhUW7B",
        "outputId": "7224f971-e0e4-4aa0-f28b-60466381dadc"
      },
      "execution_count": 18,
      "outputs": [
        {
          "output_type": "stream",
          "name": "stdout",
          "text": [
            "['Name', 'Age', 'sex']\n"
          ]
        }
      ]
    },
    {
      "cell_type": "code",
      "source": [
        "print(my_list[3:])"
      ],
      "metadata": {
        "colab": {
          "base_uri": "https://localhost:8080/"
        },
        "id": "OtcgejaMVFpz",
        "outputId": "f32efc24-37bf-4eae-cebc-23c62f4cc69d"
      },
      "execution_count": 21,
      "outputs": [
        {
          "output_type": "stream",
          "name": "stdout",
          "text": [
            "['Name', 'Age', 'sex', 15]\n"
          ]
        }
      ]
    },
    {
      "cell_type": "code",
      "source": [
        "print(my_list[:])"
      ],
      "metadata": {
        "colab": {
          "base_uri": "https://localhost:8080/"
        },
        "id": "I_QPm79XaXhO",
        "outputId": "9a95cb7a-7037-40f9-fde6-83fb83960079"
      },
      "execution_count": 22,
      "outputs": [
        {
          "output_type": "stream",
          "name": "stdout",
          "text": [
            "[2, 3, 4, 'Name', 'Age', 'sex', 15]\n"
          ]
        }
      ]
    },
    {
      "cell_type": "code",
      "source": [
        "list_1=['NAME','AGE','SEX','KOFI','222', 'AMA','YAW']\n",
        "print('list_1[1][6]')"
      ],
      "metadata": {
        "colab": {
          "base_uri": "https://localhost:8080/"
        },
        "id": "IZdO9RcHanP0",
        "outputId": "f7cc10a2-8e5c-428b-b60d-c1aace0f28f0"
      },
      "execution_count": 29,
      "outputs": [
        {
          "output_type": "stream",
          "name": "stdout",
          "text": [
            "list_1[1][6]\n"
          ]
        }
      ]
    },
    {
      "cell_type": "code",
      "source": [
        "print(list_1[:])"
      ],
      "metadata": {
        "colab": {
          "base_uri": "https://localhost:8080/"
        },
        "id": "XTvMn66Kco2H",
        "outputId": "846ebc4f-af4d-4ecf-e3ac-88e1dedd333d"
      },
      "execution_count": 30,
      "outputs": [
        {
          "output_type": "stream",
          "name": "stdout",
          "text": [
            "['NAME', 'AGE', 'SEX', 'KOFI', '222', 'AMA', 'YAW']\n"
          ]
        }
      ]
    },
    {
      "cell_type": "code",
      "source": [
        "print(list_1[:3])"
      ],
      "metadata": {
        "colab": {
          "base_uri": "https://localhost:8080/"
        },
        "id": "rwT8WArueCuD",
        "outputId": "ef3a2893-0574-4148-8142-b08380cc9a2d"
      },
      "execution_count": 32,
      "outputs": [
        {
          "output_type": "stream",
          "name": "stdout",
          "text": [
            "['NAME', 'AGE', 'SEX']\n"
          ]
        }
      ]
    },
    {
      "cell_type": "code",
      "source": [
        "print(list_1[4:])"
      ],
      "metadata": {
        "colab": {
          "base_uri": "https://localhost:8080/"
        },
        "id": "B1jyeHfcem5b",
        "outputId": "ed774560-39b7-418b-f15e-919372f42967"
      },
      "execution_count": 34,
      "outputs": [
        {
          "output_type": "stream",
          "name": "stdout",
          "text": [
            "['222', 'AMA', 'YAW']\n"
          ]
        }
      ]
    },
    {
      "cell_type": "code",
      "source": [
        "my_list= ['KUAMI',['AGE', 'NAME', 'KOFI'], 'T']\n",
        "print([2][0])"
      ],
      "metadata": {
        "colab": {
          "base_uri": "https://localhost:8080/"
        },
        "id": "HnXf1RXue4OK",
        "outputId": "d6514dd7-bb0a-4900-b7b5-da009260fc0b"
      },
      "execution_count": 36,
      "outputs": [
        {
          "output_type": "stream",
          "name": "stdout",
          "text": [
            "2\n"
          ]
        }
      ]
    },
    {
      "cell_type": "code",
      "source": [
        "print([1])"
      ],
      "metadata": {
        "colab": {
          "base_uri": "https://localhost:8080/"
        },
        "id": "6eiUMoxogAaJ",
        "outputId": "23df2344-1d58-42d3-8456-381b2211ce8f"
      },
      "execution_count": 37,
      "outputs": [
        {
          "output_type": "stream",
          "name": "stdout",
          "text": [
            "[1]\n"
          ]
        }
      ]
    },
    {
      "cell_type": "code",
      "source": [
        "print('T')"
      ],
      "metadata": {
        "colab": {
          "base_uri": "https://localhost:8080/"
        },
        "id": "eDkuDNnbgRrp",
        "outputId": "b2cfaaee-22f8-4ad1-aa1c-cb0c45045aef"
      },
      "execution_count": 39,
      "outputs": [
        {
          "output_type": "stream",
          "name": "stdout",
          "text": [
            "T\n"
          ]
        }
      ]
    },
    {
      "cell_type": "code",
      "source": [
        "my_dict={'key1' : 'value1',\n",
        "           'key2':'value2',\n",
        "          'key3':'value3'}\n",
        "print(my_dict)"
      ],
      "metadata": {
        "colab": {
          "base_uri": "https://localhost:8080/"
        },
        "id": "pvUI4CE6gkSV",
        "outputId": "50c4c505-9bb0-4780-b5b3-dbd0cc14fa25"
      },
      "execution_count": 40,
      "outputs": [
        {
          "output_type": "stream",
          "name": "stdout",
          "text": [
            "{'key1': 'value1', 'key2': 'value2', 'key3': 'value3'}\n"
          ]
        }
      ]
    },
    {
      "cell_type": "code",
      "source": [
        "type(my_dict)                                                   "
      ],
      "metadata": {
        "colab": {
          "base_uri": "https://localhost:8080/"
        },
        "id": "juhtI2mxhcrt",
        "outputId": "89507c89-77dd-46de-80ce-8b5b88c8c423"
      },
      "execution_count": 41,
      "outputs": [
        {
          "output_type": "execute_result",
          "data": {
            "text/plain": [
              "dict"
            ]
          },
          "metadata": {},
          "execution_count": 41
        }
      ]
    },
    {
      "cell_type": "code",
      "source": [
        "my_dict['key2']"
      ],
      "metadata": {
        "colab": {
          "base_uri": "https://localhost:8080/",
          "height": 35
        },
        "id": "8jLgTS55h9ao",
        "outputId": "51272eac-be29-4360-fa4d-e260a41808ef"
      },
      "execution_count": 42,
      "outputs": [
        {
          "output_type": "execute_result",
          "data": {
            "text/plain": [
              "'value2'"
            ],
            "application/vnd.google.colaboratory.intrinsic+json": {
              "type": "string"
            }
          },
          "metadata": {},
          "execution_count": 42
        }
      ]
    },
    {
      "cell_type": "code",
      "source": [
        "school_fees={'KOFI': 150000,\n",
        "             'AMA': 10000,\n",
        "             'SAM':20000}\n",
        "print(school_fees)"
      ],
      "metadata": {
        "colab": {
          "base_uri": "https://localhost:8080/"
        },
        "id": "UYdrFolNiHbL",
        "outputId": "dd381904-66c9-41e6-9582-d9c08c5f320a"
      },
      "execution_count": 43,
      "outputs": [
        {
          "output_type": "stream",
          "name": "stdout",
          "text": [
            "{'KOFI': 150000, 'AMA': 10000, 'SAM': 20000}\n"
          ]
        }
      ]
    },
    {
      "cell_type": "code",
      "source": [
        "school_fees['AMA']"
      ],
      "metadata": {
        "colab": {
          "base_uri": "https://localhost:8080/"
        },
        "id": "DjZRd2uTilb4",
        "outputId": "0a151687-332d-4671-cd56-68bad8f7d472"
      },
      "execution_count": 44,
      "outputs": [
        {
          "output_type": "execute_result",
          "data": {
            "text/plain": [
              "10000"
            ]
          },
          "metadata": {},
          "execution_count": 44
        }
      ]
    },
    {
      "cell_type": "code",
      "source": [
        "school_fees['Barbara']=1500\n",
        "print(school_fees)"
      ],
      "metadata": {
        "colab": {
          "base_uri": "https://localhost:8080/"
        },
        "id": "bfe4v4rcisDy",
        "outputId": "f62da9e1-f0fa-41b8-8d9f-e8a6d12ce8ec"
      },
      "execution_count": 45,
      "outputs": [
        {
          "output_type": "stream",
          "name": "stdout",
          "text": [
            "{'KOFI': 150000, 'AMA': 10000, 'SAM': 20000, 'Barbara': 1500}\n"
          ]
        }
      ]
    },
    {
      "cell_type": "code",
      "source": [
        "del school_fees['SAM']\n",
        "print(school_fees)"
      ],
      "metadata": {
        "colab": {
          "base_uri": "https://localhost:8080/"
        },
        "id": "uDbmf99HjAOH",
        "outputId": "ade626a6-f5a2-4d68-d993-feccd95ba6d7"
      },
      "execution_count": 46,
      "outputs": [
        {
          "output_type": "stream",
          "name": "stdout",
          "text": [
            "{'KOFI': 150000, 'AMA': 10000, 'Barbara': 1500}\n"
          ]
        }
      ]
    },
    {
      "cell_type": "code",
      "source": [
        "items= {'BOOK':3.00,\n",
        "        'PEN':4.50,\n",
        "        'PUPPY':1000.00,\n",
        "        'PHONE':4567.00,\n",
        "        'LAPTOP':3456.00,\n",
        "        'CANVA':56.00}\n",
        "print(items)"
      ],
      "metadata": {
        "colab": {
          "base_uri": "https://localhost:8080/"
        },
        "id": "fNFbd5xKjOPq",
        "outputId": "70aa6714-b0b3-4554-e47d-efb7822d8652"
      },
      "execution_count": 47,
      "outputs": [
        {
          "output_type": "stream",
          "name": "stdout",
          "text": [
            "{'BOOK': 3.0, 'PEN': 4.5, 'PUPPY': 1000.0, 'PHONE': 4567.0, 'LAPTOP': 3456.0, 'CANVA': 56.0}\n"
          ]
        }
      ]
    },
    {
      "cell_type": "code",
      "source": [
        "my_string= \"Hello everyone and welcome to Python towards data science track!\"\n",
        "print(my_string)"
      ],
      "metadata": {
        "colab": {
          "base_uri": "https://localhost:8080/"
        },
        "id": "DdhMWXKCkZfb",
        "outputId": "e01c1585-049c-41eb-9d2e-2e639deec09b"
      },
      "execution_count": 48,
      "outputs": [
        {
          "output_type": "stream",
          "name": "stdout",
          "text": [
            "Hello everyone and welcome to Python towards data science track!\n"
          ]
        }
      ]
    },
    {
      "cell_type": "code",
      "source": [
        "type(my_string)"
      ],
      "metadata": {
        "colab": {
          "base_uri": "https://localhost:8080/"
        },
        "id": "boWbrpHGk0nI",
        "outputId": "cd039cc6-c640-4e29-ad52-4ffdbca385cd"
      },
      "execution_count": 49,
      "outputs": [
        {
          "output_type": "execute_result",
          "data": {
            "text/plain": [
              "str"
            ]
          },
          "metadata": {},
          "execution_count": 49
        }
      ]
    },
    {
      "cell_type": "code",
      "source": [
        "first_name = \"Niall\"\n",
        "last_name = \" Horan\"\n",
        "full_name= first_name + last_name\n",
        "print(full_name)"
      ],
      "metadata": {
        "colab": {
          "base_uri": "https://localhost:8080/"
        },
        "id": "UZaxv3ouk75H",
        "outputId": "b2ac6ae2-7aee-4070-a44d-264fc7a5dac7"
      },
      "execution_count": 50,
      "outputs": [
        {
          "output_type": "stream",
          "name": "stdout",
          "text": [
            "Niall Horan\n"
          ]
        }
      ]
    },
    {
      "cell_type": "code",
      "source": [
        "my_string.upper()"
      ],
      "metadata": {
        "colab": {
          "base_uri": "https://localhost:8080/",
          "height": 35
        },
        "id": "TvEqSIW5lYtc",
        "outputId": "944e45fb-beeb-48e3-b88b-5e03d780a76e"
      },
      "execution_count": 51,
      "outputs": [
        {
          "output_type": "execute_result",
          "data": {
            "text/plain": [
              "'HELLO EVERYONE AND WELCOME TO PYTHON TOWARDS DATA SCIENCE TRACK!'"
            ],
            "application/vnd.google.colaboratory.intrinsic+json": {
              "type": "string"
            }
          },
          "metadata": {},
          "execution_count": 51
        }
      ]
    },
    {
      "cell_type": "code",
      "source": [
        "x= my_string.split()\n",
        "print(x)"
      ],
      "metadata": {
        "colab": {
          "base_uri": "https://localhost:8080/"
        },
        "id": "ieNpcj5LlnJu",
        "outputId": "76f3d2f4-7708-4cdd-fe64-67dd10b4c992"
      },
      "execution_count": 52,
      "outputs": [
        {
          "output_type": "stream",
          "name": "stdout",
          "text": [
            "['Hello', 'everyone', 'and', 'welcome', 'to', 'Python', 'towards', 'data', 'science', 'track!']\n"
          ]
        }
      ]
    },
    {
      "cell_type": "code",
      "source": [
        "type(x)"
      ],
      "metadata": {
        "colab": {
          "base_uri": "https://localhost:8080/"
        },
        "id": "f7BpfQlomAHj",
        "outputId": "4c0f2153-bc10-43de-e7dd-40b24c64bcb7"
      },
      "execution_count": 53,
      "outputs": [
        {
          "output_type": "execute_result",
          "data": {
            "text/plain": [
              "list"
            ]
          },
          "metadata": {},
          "execution_count": 53
        }
      ]
    },
    {
      "cell_type": "code",
      "source": [
        "x[1]"
      ],
      "metadata": {
        "colab": {
          "base_uri": "https://localhost:8080/",
          "height": 35
        },
        "id": "AG1Dm7zhmER2",
        "outputId": "b3522ebb-d0c2-458d-d1fa-064905c22b8f"
      },
      "execution_count": 54,
      "outputs": [
        {
          "output_type": "execute_result",
          "data": {
            "text/plain": [
              "'everyone'"
            ],
            "application/vnd.google.colaboratory.intrinsic+json": {
              "type": "string"
            }
          },
          "metadata": {},
          "execution_count": 54
        }
      ]
    },
    {
      "cell_type": "code",
      "source": [
        "my_string= 'kofiamegah5@gmail.com'\n",
        "z= my_string.split('@')\n",
        "print(z)"
      ],
      "metadata": {
        "colab": {
          "base_uri": "https://localhost:8080/"
        },
        "id": "CrtDcSxfmKz2",
        "outputId": "1d6056cf-c3ad-451f-f762-989c2be4f58b"
      },
      "execution_count": 55,
      "outputs": [
        {
          "output_type": "stream",
          "name": "stdout",
          "text": [
            "['kofiamegah5', 'gmail.com']\n"
          ]
        }
      ]
    },
    {
      "cell_type": "code",
      "source": [
        "question= 'What is your feedback regarding this course you are taking?'\n",
        "screen= question.split()\n",
        "print(screen)"
      ],
      "metadata": {
        "colab": {
          "base_uri": "https://localhost:8080/"
        },
        "id": "xFcyO0a_mfsW",
        "outputId": "4a286a3e-b8cf-4e06-b8cc-9fbc24612349"
      },
      "execution_count": 57,
      "outputs": [
        {
          "output_type": "stream",
          "name": "stdout",
          "text": [
            "['What', 'is', 'your', 'feedback', 'regarding', 'this', 'course', 'you', 'are', 'taking?']\n"
          ]
        }
      ]
    },
    {
      "cell_type": "code",
      "source": [
        "tuple_1=('NAME', 'AGE', 10, 15, 1992);\n",
        "tuple_2=(450,55,977,2100);\n",
        "type(tuple_1)"
      ],
      "metadata": {
        "colab": {
          "base_uri": "https://localhost:8080/"
        },
        "id": "XJLSFmQxnMLA",
        "outputId": "ec228847-2066-4330-dc75-361a68f68b99"
      },
      "execution_count": 59,
      "outputs": [
        {
          "output_type": "execute_result",
          "data": {
            "text/plain": [
              "tuple"
            ]
          },
          "metadata": {},
          "execution_count": 59
        }
      ]
    },
    {
      "cell_type": "code",
      "source": [
        "tuple_1"
      ],
      "metadata": {
        "colab": {
          "base_uri": "https://localhost:8080/"
        },
        "id": "AEyHoWHwolKR",
        "outputId": "d2fb1e8a-3a26-4de2-8fb2-8c683a7b7eb2"
      },
      "execution_count": 60,
      "outputs": [
        {
          "output_type": "execute_result",
          "data": {
            "text/plain": [
              "('NAME', 'AGE', 10, 15, 1992)"
            ]
          },
          "metadata": {},
          "execution_count": 60
        }
      ]
    },
    {
      "cell_type": "code",
      "source": [
        "tuple_1[1]"
      ],
      "metadata": {
        "colab": {
          "base_uri": "https://localhost:8080/",
          "height": 35
        },
        "id": "G-vUWOrkon9S",
        "outputId": "f17d48e8-72fe-445f-d237-ab77f5c65822"
      },
      "execution_count": 61,
      "outputs": [
        {
          "output_type": "execute_result",
          "data": {
            "text/plain": [
              "'AGE'"
            ],
            "application/vnd.google.colaboratory.intrinsic+json": {
              "type": "string"
            }
          },
          "metadata": {},
          "execution_count": 61
        }
      ]
    },
    {
      "cell_type": "code",
      "source": [
        "tuple_1[1:3]"
      ],
      "metadata": {
        "colab": {
          "base_uri": "https://localhost:8080/"
        },
        "id": "OcpJSFIAotX6",
        "outputId": "1165c9e3-96d7-4faa-9311-2eb455633340"
      },
      "execution_count": 62,
      "outputs": [
        {
          "output_type": "execute_result",
          "data": {
            "text/plain": [
              "('AGE', 10)"
            ]
          },
          "metadata": {},
          "execution_count": 62
        }
      ]
    },
    {
      "cell_type": "code",
      "source": [
        "tuple_3=tuple_1+tuple_2\n",
        "print(tuple_3)"
      ],
      "metadata": {
        "colab": {
          "base_uri": "https://localhost:8080/"
        },
        "id": "4naYjliuo-rW",
        "outputId": "08d4a53b-9886-4304-b881-aa5ee2194681"
      },
      "execution_count": 63,
      "outputs": [
        {
          "output_type": "stream",
          "name": "stdout",
          "text": [
            "('NAME', 'AGE', 10, 15, 1992, 450, 55, 977, 2100)\n"
          ]
        }
      ]
    },
    {
      "cell_type": "code",
      "source": [
        "tuple_1= ('Ama','Quaye','15','50')\n",
        "type(tuple_1)\n"
      ],
      "metadata": {
        "colab": {
          "base_uri": "https://localhost:8080/"
        },
        "id": "2LLamhKXpJyw",
        "outputId": "a4a44cb1-437c-407e-bc77-5dbb47ffcde5"
      },
      "execution_count": 65,
      "outputs": [
        {
          "output_type": "execute_result",
          "data": {
            "text/plain": [
              "tuple"
            ]
          },
          "metadata": {},
          "execution_count": 65
        }
      ]
    },
    {
      "cell_type": "code",
      "source": [
        "len(tuple_1)"
      ],
      "metadata": {
        "colab": {
          "base_uri": "https://localhost:8080/"
        },
        "id": "moOj0GtCqU0B",
        "outputId": "063ffbe0-acb2-4599-e90a-559b2e004684"
      },
      "execution_count": 66,
      "outputs": [
        {
          "output_type": "execute_result",
          "data": {
            "text/plain": [
              "4"
            ]
          },
          "metadata": {},
          "execution_count": 66
        }
      ]
    },
    {
      "cell_type": "code",
      "source": [
        "my_set = {'NAME', 'AGE', 'T', 'SEX', 'T', 'AGE'}\n",
        "print(my_set)"
      ],
      "metadata": {
        "colab": {
          "base_uri": "https://localhost:8080/"
        },
        "id": "RAqXWLzwqafM",
        "outputId": "caf12e83-e1ad-4e25-91c2-5574874f4a16"
      },
      "execution_count": 67,
      "outputs": [
        {
          "output_type": "stream",
          "name": "stdout",
          "text": [
            "{'SEX', 'AGE', 'T', 'NAME'}\n"
          ]
        }
      ]
    },
    {
      "cell_type": "code",
      "source": [
        "my_set={'NAME', 'AGE','T'}\n",
        "print(my_set)"
      ],
      "metadata": {
        "colab": {
          "base_uri": "https://localhost:8080/"
        },
        "id": "mOW4HsUsq78r",
        "outputId": "7da2ee7f-23cf-4366-facb-059a123ef204"
      },
      "execution_count": 68,
      "outputs": [
        {
          "output_type": "stream",
          "name": "stdout",
          "text": [
            "{'AGE', 'T', 'NAME'}\n"
          ]
        }
      ]
    },
    {
      "cell_type": "code",
      "source": [
        "my_list= {'NAME','AGE','T','SEX','T','AGE', '5', '6', '5'}\n",
        "print(my_list)"
      ],
      "metadata": {
        "colab": {
          "base_uri": "https://localhost:8080/"
        },
        "id": "6P19cnZSrK8C",
        "outputId": "fa357b16-e2ac-4560-f506-5a6f83ad4cdd"
      },
      "execution_count": 69,
      "outputs": [
        {
          "output_type": "stream",
          "name": "stdout",
          "text": [
            "{'6', 'SEX', '5', 'T', 'NAME', 'AGE'}\n"
          ]
        }
      ]
    }
  ]
}