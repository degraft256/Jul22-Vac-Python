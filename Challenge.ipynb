{
  "nbformat": 4,
  "nbformat_minor": 0,
  "metadata": {
    "colab": {
      "name": "Challenge.ipynb",
      "provenance": [],
      "authorship_tag": "ABX9TyMhAr88BxQPqJKU4GhQF7kA",
      "include_colab_link": true
    },
    "kernelspec": {
      "name": "python3",
      "display_name": "Python 3"
    },
    "language_info": {
      "name": "python"
    }
  },
  "cells": [
    {
      "cell_type": "markdown",
      "metadata": {
        "id": "view-in-github",
        "colab_type": "text"
      },
      "source": [
        "<a href=\"https://colab.research.google.com/github/degraft256/Jul22-Vac-Python/blob/main/Challenge.ipynb\" target=\"_parent\"><img src=\"https://colab.research.google.com/assets/colab-badge.svg\" alt=\"Open In Colab\"/></a>"
      ]
    },
    {
      "cell_type": "code",
      "execution_count": 2,
      "metadata": {
        "colab": {
          "base_uri": "https://localhost:8080/"
        },
        "id": "FwC9BTH2qEIb",
        "outputId": "c402e8f0-1c51-4656-8174-7786c604dfe8"
      },
      "outputs": [
        {
          "output_type": "stream",
          "name": "stdout",
          "text": [
            "What time did you start work?11\n",
            "What time did you end work?13\n",
            "\n",
            "You spent 2.0 hours\n",
            "Amount received is 10.0\n",
            "$ 10.0 Paid\n"
          ]
        }
      ],
      "source": [
        "#Barbara's tracker\n",
        "hourly_rate= 5\n",
        "currency='$'\n",
        "started= input ('What time did you start work?')\n",
        "ended=input('What time did you end work?')\n",
        "total_hours= float(ended)-int(started)\n",
        "pay= float(total_hours)*int(hourly_rate)\n",
        "\n",
        "print()\n",
        "print('You spent {} hours'.format(total_hours))\n",
        "print('Amount received is {}'.format(pay))\n",
        "print (currency + '',pay,\"Paid\")"
      ]
    }
  ]
}