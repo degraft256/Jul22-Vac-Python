{
  "nbformat": 4,
  "nbformat_minor": 0,
  "metadata": {
    "colab": {
      "name": "Assignment1.ipynb",
      "provenance": [],
      "authorship_tag": "ABX9TyO9Ergdr2bxXK4AkEdquJLo",
      "include_colab_link": true
    },
    "kernelspec": {
      "name": "python3",
      "display_name": "Python 3"
    },
    "language_info": {
      "name": "python"
    }
  },
  "cells": [
    {
      "cell_type": "markdown",
      "metadata": {
        "id": "view-in-github",
        "colab_type": "text"
      },
      "source": [
        "<a href=\"https://colab.research.google.com/github/degraft256/Jul22-Vac-Python/blob/main/Assignment1.ipynb\" target=\"_parent\"><img src=\"https://colab.research.google.com/assets/colab-badge.svg\" alt=\"Open In Colab\"/></a>"
      ]
    },
    {
      "cell_type": "code",
      "source": [
        "student_id = 3324\n",
        "student_id = 3400\n",
        "student_id = 3530\n",
        "student_id"
      ],
      "metadata": {
        "colab": {
          "base_uri": "https://localhost:8080/"
        },
        "id": "E31BMAvkN6Vn",
        "outputId": "396d0fe0-abf0-4288-e173-ffad3d726704"
      },
      "execution_count": 12,
      "outputs": [
        {
          "output_type": "execute_result",
          "data": {
            "text/plain": [
              "3530"
            ]
          },
          "metadata": {},
          "execution_count": 12
        }
      ]
    },
    {
      "cell_type": "code",
      "source": [
        "unicorn_id = 112\n",
        "unicorn_id = 115.3\n",
        "type(unicorn_id)"
      ],
      "metadata": {
        "colab": {
          "base_uri": "https://localhost:8080/"
        },
        "id": "2puxXwK-O0BF",
        "outputId": "59c868a4-12ea-44f8-bff1-9c6ea890c629"
      },
      "execution_count": 14,
      "outputs": [
        {
          "output_type": "execute_result",
          "data": {
            "text/plain": [
              "float"
            ]
          },
          "metadata": {},
          "execution_count": 14
        }
      ]
    },
    {
      "cell_type": "code",
      "source": [
        "tutors = 23\n",
        "tutors_price = 2500\n",
        "account_balance = tutors * tutors_price\n",
        "account_balance\n"
      ],
      "metadata": {
        "colab": {
          "base_uri": "https://localhost:8080/"
        },
        "id": "TsIVAgH6PwdW",
        "outputId": "fda15b07-9b03-477f-fa11-af68696ba3bb"
      },
      "execution_count": 15,
      "outputs": [
        {
          "output_type": "execute_result",
          "data": {
            "text/plain": [
              "57500"
            ]
          },
          "metadata": {},
          "execution_count": 15
        }
      ]
    },
    {
      "cell_type": "code",
      "source": [
        "day_1 = 260\n",
        "day_2 = 280\n",
        "amount= day_1 + day_2\n",
        "amount"
      ],
      "metadata": {
        "colab": {
          "base_uri": "https://localhost:8080/"
        },
        "id": "7e_bj-aORPLu",
        "outputId": "96ed26d6-e5c5-4e8c-a4b1-3df57dcf3ac0"
      },
      "execution_count": 16,
      "outputs": [
        {
          "output_type": "execute_result",
          "data": {
            "text/plain": [
              "540"
            ]
          },
          "metadata": {},
          "execution_count": 16
        }
      ]
    },
    {
      "cell_type": "code",
      "source": [
        "(15*500) - (15*300)"
      ],
      "metadata": {
        "colab": {
          "base_uri": "https://localhost:8080/"
        },
        "id": "vTAiRb44RuJv",
        "outputId": "a90b925c-b477-46f6-e648-d8096f24d9c3"
      },
      "execution_count": 17,
      "outputs": [
        {
          "output_type": "execute_result",
          "data": {
            "text/plain": [
              "3000"
            ]
          },
          "metadata": {},
          "execution_count": 17
        }
      ]
    },
    {
      "cell_type": "code",
      "source": [
        "z= |7-6| * (7+6)\n",
        "z"
      ],
      "metadata": {
        "colab": {
          "base_uri": "https://localhost:8080/",
          "height": 130
        },
        "id": "t9hB5DJXSo_0",
        "outputId": "bfc7064e-a9f8-476a-a7cc-c72a74091b3a"
      },
      "execution_count": 20,
      "outputs": [
        {
          "output_type": "error",
          "ename": "SyntaxError",
          "evalue": "ignored",
          "traceback": [
            "\u001b[0;36m  File \u001b[0;32m\"<ipython-input-20-520ae5c5025f>\"\u001b[0;36m, line \u001b[0;32m1\u001b[0m\n\u001b[0;31m    z= |7-6| * (7+6)\u001b[0m\n\u001b[0m       ^\u001b[0m\n\u001b[0;31mSyntaxError\u001b[0m\u001b[0;31m:\u001b[0m invalid syntax\n"
          ]
        }
      ]
    },
    {
      "cell_type": "code",
      "source": [
        " company_name = \"unicorn\"\n",
        " student = \"Natasha\""
      ],
      "metadata": {
        "id": "S2AX6_FQUd-y"
      },
      "execution_count": 22,
      "outputs": []
    },
    {
      "cell_type": "code",
      "source": [
        "print('the total number of {} developers are 30 including {}'. format(company_name , student))"
      ],
      "metadata": {
        "colab": {
          "base_uri": "https://localhost:8080/"
        },
        "id": "R9JCMsgJVA5M",
        "outputId": "eeb8ee64-e720-45f9-f9c2-46f0296901be"
      },
      "execution_count": 25,
      "outputs": [
        {
          "output_type": "stream",
          "name": "stdout",
          "text": [
            "the total number of unicorn developers are 30 including Natasha\n"
          ]
        }
      ]
    },
    {
      "cell_type": "code",
      "source": [
        "x= input('Enter the fee for the course you want to study:')\n",
        "x= int(x)\n",
        "y= input('Enter the number of courses you want to pay for:')\n",
        "y= int(y)\n",
        "z= input('Enter the name of the company you want to study at:')\n",
        "print('the total funds required to pay {} number of UniDev courses at {} is {}'. format(y, x, x*y))"
      ],
      "metadata": {
        "colab": {
          "base_uri": "https://localhost:8080/"
        },
        "id": "VL3EvytGZR8P",
        "outputId": "8ef6a321-6a5a-4f7c-96fe-6b151c59790a"
      },
      "execution_count": 27,
      "outputs": [
        {
          "output_type": "stream",
          "name": "stdout",
          "text": [
            "Enter the fee for the course you want to study:3000\n",
            "Enter the number of courses you want to pay for:5\n",
            "Enter the name of the company you want to study at:UniDev\n",
            "the total funds required to pay 5 number of UniDev courses at 3000 is 15000\n"
          ]
        }
      ]
    }
  ]
}