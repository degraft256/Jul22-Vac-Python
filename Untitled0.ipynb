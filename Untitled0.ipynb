{
  "nbformat": 4,
  "nbformat_minor": 0,
  "metadata": {
    "colab": {
      "name": "Untitled0.ipynb",
      "provenance": [],
      "authorship_tag": "ABX9TyN3TqCsrZnPl72HDkoAhRpV",
      "include_colab_link": true
    },
    "kernelspec": {
      "name": "python3",
      "display_name": "Python 3"
    },
    "language_info": {
      "name": "python"
    }
  },
  "cells": [
    {
      "cell_type": "markdown",
      "metadata": {
        "id": "view-in-github",
        "colab_type": "text"
      },
      "source": [
        "<a href=\"https://colab.research.google.com/github/degraft256/Jul22-Vac-Python/blob/main/Untitled0.ipynb\" target=\"_parent\"><img src=\"https://colab.research.google.com/assets/colab-badge.svg\" alt=\"Open In Colab\"/></a>"
      ]
    },
    {
      "cell_type": "code",
      "execution_count": null,
      "metadata": {
        "colab": {
          "base_uri": "https://localhost:8080/"
        },
        "id": "dWOqqxgtPBbx",
        "outputId": "f98abf02-04f6-46ff-a6b3-513eba7392bf"
      },
      "outputs": [
        {
          "output_type": "stream",
          "name": "stdout",
          "text": [
            "57500\n"
          ]
        }
      ],
      "source": [
        "tutors= 23\n",
        "tutor_fee= 2500\n",
        "amount= tutors*tutor_fee\n",
        "print(amount)"
      ]
    },
    {
      "cell_type": "code",
      "source": [
        "number_of_students= 4\n",
        "students_paid1= 260*number_of_students\n",
        "students_paid2= 280*number_of_students\n",
        "total=students_paid1 + students_paid2\n",
        "print(total)"
      ],
      "metadata": {
        "colab": {
          "base_uri": "https://localhost:8080/"
        },
        "id": "IojKIrEPRdTb",
        "outputId": "b10f39d7-2382-4a32-c028-2c25d5de46b2"
      },
      "execution_count": null,
      "outputs": [
        {
          "output_type": "stream",
          "name": "stdout",
          "text": [
            "2160\n"
          ]
        }
      ]
    },
    {
      "cell_type": "code",
      "source": [
        "number_of_students=15\n",
        "first_fee=300\n",
        "second_fee=500\n",
        "amount_first= number_of_students* first_fee\n",
        "amount_second= number_of_students* second_fee\n",
        "profit= amount_second -amount_first\n",
        "print(profit)"
      ],
      "metadata": {
        "colab": {
          "base_uri": "https://localhost:8080/"
        },
        "id": "wcGUtj38TdgQ",
        "outputId": "26f08c70-d930-4044-fff4-fb8962bc64cc"
      },
      "execution_count": null,
      "outputs": [
        {
          "output_type": "stream",
          "name": "stdout",
          "text": [
            "3000\n"
          ]
        }
      ]
    },
    {
      "cell_type": "code",
      "source": [
        "company_name= 'UniDev Developers'\n",
        "students= '30'\n",
        "me= 'Ama'\n",
        "print(\"The total of number of students at {} is {}.({})\".format(company_name, students, me))"
      ],
      "metadata": {
        "colab": {
          "base_uri": "https://localhost:8080/"
        },
        "id": "kcpd9KwjYyF4",
        "outputId": "57c3f98c-4f5b-4631-97d9-aebf6abb2e28"
      },
      "execution_count": null,
      "outputs": [
        {
          "output_type": "stream",
          "name": "stdout",
          "text": [
            "The total of number of students at UniDev Developers is 30.(Ama)\n"
          ]
        }
      ]
    },
    {
      "cell_type": "code",
      "source": [
        "name= input('What is your name? ')\n",
        "future= input('What do you want to be in future? ')\n",
        "color= input('What is your favorite color?')\n",
        "print('Hello,{}!,You want to become a {}? So do i! I also adore {}! WOW...we have so much in common.'.format(name, future, color))"
      ],
      "metadata": {
        "colab": {
          "base_uri": "https://localhost:8080/"
        },
        "id": "KbyyNkPEb-3X",
        "outputId": "bdc9b337-c15f-4461-afb1-f10b54214d65"
      },
      "execution_count": null,
      "outputs": [
        {
          "output_type": "stream",
          "name": "stdout",
          "text": [
            "What is your name? Ama\n",
            "What do you want to be in future? Doctor\n",
            "What is your favorite color?red\n",
            "Hello,Ama!,You want to become a Doctor? So do i! I also adore red! WOW...we have so much in common.\n"
          ]
        }
      ]
    },
    {
      "cell_type": "code",
      "source": [
        "x= input('How many cars do you see parked up? ')\n",
        "x=int(x)\n",
        "y= input ('How many cars do you see parked down?')\n",
        "y=int(y)\n",
        "z= input('How many entrances are there?') \n",
        "z=int(z)\n",
        "print('The total number of cars in the garage are {} there are {} entrances through which they passed.Bill Gates has about twice the number of those cars({}).'.format(x, y, x*y))"
      ],
      "metadata": {
        "colab": {
          "base_uri": "https://localhost:8080/",
          "height": 269
        },
        "id": "faAi7rJQe6vr",
        "outputId": "e47aec7c-e6b6-4e21-e640-0ae86d44acf1"
      },
      "execution_count": null,
      "outputs": [
        {
          "name": "stdout",
          "output_type": "stream",
          "text": [
            "How many cars do you see parked up? 2\n",
            "How many cars do you see parked down?2\n",
            "How many entrances are there?2\n"
          ]
        },
        {
          "output_type": "error",
          "ename": "TypeError",
          "evalue": "ignored",
          "traceback": [
            "\u001b[0;31m---------------------------------------------------------------------------\u001b[0m",
            "\u001b[0;31mTypeError\u001b[0m                                 Traceback (most recent call last)",
            "\u001b[0;32m<ipython-input-17-1a6e2541a3e0>\u001b[0m in \u001b[0;36m<module>\u001b[0;34m()\u001b[0m\n\u001b[1;32m      5\u001b[0m \u001b[0mz\u001b[0m\u001b[0;34m=\u001b[0m \u001b[0minput\u001b[0m\u001b[0;34m(\u001b[0m\u001b[0;34m'How many entrances are there?'\u001b[0m\u001b[0;34m)\u001b[0m\u001b[0;34m\u001b[0m\u001b[0;34m\u001b[0m\u001b[0m\n\u001b[1;32m      6\u001b[0m \u001b[0mz\u001b[0m\u001b[0;34m=\u001b[0m\u001b[0mint\u001b[0m\u001b[0;34m(\u001b[0m\u001b[0mz\u001b[0m\u001b[0;34m)\u001b[0m\u001b[0;34m\u001b[0m\u001b[0;34m\u001b[0m\u001b[0m\n\u001b[0;32m----> 7\u001b[0;31m \u001b[0mprint\u001b[0m\u001b[0;34m(\u001b[0m\u001b[0;34m'The total number of cars in the garage are {} there are {} entrances through which they passed.Bill Gates has about twice the number of those cars({}).'\u001b[0m\u001b[0;34m.\u001b[0m\u001b[0mformat\u001b[0m\u001b[0;34m(\u001b[0m\u001b[0mx\u001b[0m\u001b[0;34m,\u001b[0m \u001b[0my\u001b[0m\u001b[0;34m,\u001b[0m \u001b[0mx\u001b[0m\u001b[0;34m*\u001b[0m\u001b[0my\u001b[0m\u001b[0;34m)\u001b[0m\u001b[0;34m)\u001b[0m\u001b[0;34m\u001b[0m\u001b[0;34m\u001b[0m\u001b[0m\n\u001b[0m",
            "\u001b[0;31mTypeError\u001b[0m: 'str' object is not callable"
          ]
        }
      ]
    },
    {
      "cell_type": "code",
      "source": [
        "if 23!=25:\n",
        "  print(\"this is very true\")\n",
        "else :\n",
        "  print(\"this is totally false\")"
      ],
      "metadata": {
        "id": "6PehDH3yjVPm",
        "colab": {
          "base_uri": "https://localhost:8080/"
        },
        "outputId": "78ccac39-8a35-4b29-eabf-46630e48c1db"
      },
      "execution_count": null,
      "outputs": [
        {
          "output_type": "stream",
          "name": "stdout",
          "text": [
            "this is very true\n"
          ]
        }
      ]
    },
    {
      "cell_type": "code",
      "source": [
        "if '24 + 23' == '23 + 24':\n",
        " print(\"this is very true\")\n",
        "else:\n",
        " print(\"this is totally false\")"
      ],
      "metadata": {
        "id": "5Vqkv8K7dPL-",
        "colab": {
          "base_uri": "https://localhost:8080/"
        },
        "outputId": "718ffe76-4e39-4516-bef1-4159203801a7"
      },
      "execution_count": null,
      "outputs": [
        {
          "output_type": "stream",
          "name": "stdout",
          "text": [
            "this is totally false\n"
          ]
        }
      ]
    },
    {
      "cell_type": "code",
      "source": [
        "if 42 == 5:\n",
        "  print(\"this statement will execute\")\n",
        "elif 34!=754:\n",
        "  print(\"the second statement will execute\")\n",
        "else:\n",
        "  print(\"none of them were true\")"
      ],
      "metadata": {
        "colab": {
          "base_uri": "https://localhost:8080/"
        },
        "id": "jzAulWWWlrnG",
        "outputId": "765945c6-e5cf-4c22-d884-b0b1bc83191d"
      },
      "execution_count": null,
      "outputs": [
        {
          "output_type": "stream",
          "name": "stdout",
          "text": [
            "the second statement will execute\n"
          ]
        }
      ]
    },
    {
      "cell_type": "code",
      "source": [
        "if (3+5) != (3+5):\n",
        " print(\"this statement shall not execute\")\n",
        "elif (44+3) == (3+44):\n",
        " print(\"the second will for sure execute\")\n",
        "else:\n",
        "  print(\"the are all false\")"
      ],
      "metadata": {
        "colab": {
          "base_uri": "https://localhost:8080/"
        },
        "id": "M9TLaUtEmKBd",
        "outputId": "65eb0902-5cea-40a7-e611-722ac73a9c20"
      },
      "execution_count": null,
      "outputs": [
        {
          "output_type": "stream",
          "name": "stdout",
          "text": [
            "the second will for sure execute\n"
          ]
        }
      ]
    },
    {
      "cell_type": "code",
      "source": [
        "name = input (\"Enter you username \")\n",
        "if name.upper() ==\"TASHA\":\n",
        "  print(\"Access Granted!\")\n",
        "else:\n",
        "  print (\"Access Denied!!\")"
      ],
      "metadata": {
        "colab": {
          "base_uri": "https://localhost:8080/"
        },
        "id": "sMnfAzn8oUX-",
        "outputId": "f757eeb3-749a-4277-cdc2-2c1b89bfd884"
      },
      "execution_count": null,
      "outputs": [
        {
          "output_type": "stream",
          "name": "stdout",
          "text": [
            "Enter you username tasha\n",
            "Access Granted!\n"
          ]
        }
      ]
    }
  ]
}